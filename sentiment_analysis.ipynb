{\rtf1\ansi\ansicpg1251\cocoartf2639
\cocoatextscaling0\cocoaplatform0{\fonttbl\f0\fmodern\fcharset0 Courier;}
{\colortbl;\red255\green255\blue255;\red0\green0\blue0;}
{\*\expandedcolortbl;;\cssrgb\c0\c0\c0;}
\paperw11900\paperh16840\margl1440\margr1440\vieww28600\viewh17440\viewkind0
\deftab720
\pard\pardeftab720\partightenfactor0

\f0\fs26 \cf0 \expnd0\expndtw0\kerning0
\{\
  "nbformat": 4,\
  "nbformat_minor": 0,\
  "metadata": \{\
    "colab": \{\
      "name": "sentiment_analysis.ipynb",\
      "provenance": [],\
      "collapsed_sections": [],\
      "machine_shape": "hm"\
    \},\
    "kernelspec": \{\
      "name": "python3",\
      "display_name": "Python 3"\
    \},\
    "accelerator": "GPU"\
  \},\
  "cells": [\
    \{\
      "cell_type": "code",\
      "metadata": \{\
        "id": "0kFnFD3jGebn",\
        "outputId": "363c6bdf-3952-4600-8172-da2f7c5f6e65",\
        "colab": \{\
          "base_uri": "https://localhost:8080/",\
          "height": 51\
        \}\
      \},\
      "source": [\
        "%tensorflow_version 2.x\\n",\
        "import pandas as pd\\n",\
        "import numpy as np\\n",\
        "import matplotlib.pyplot as plt\\n",\
        "import seaborn as sns\\n",\
        "import string\\n",\
        "import re\\n",\
        "from google.colab import drive\\n",\
        "import collections\\n",\
        "from keras import backend as K\\n",\
        "\\n",\
        "\\n",\
        "from IPython.display import Image\\n",\
        "from IPython.core.display import HTML \\n",\
        "\\n",\
        "from sklearn.feature_extraction.text import TfidfVectorizer\\n",\
        "from sklearn.linear_model import LogisticRegression\\n",\
        "from sklearn.metrics import roc_auc_score\\n",\
        "from sklearn.model_selection import train_test_split\\n",\
        "\\n",\
        "from tensorflow.keras.layers import Dense, Input, GRU, Embedding, Dropout, Bidirectional\\n",\
        "from tensorflow.keras.models import Model, Sequential\\n",\
        "from tensorflow.keras.optimizers import Adam\\n",\
        "from tensorflow.keras.preprocessing.text import Tokenizer\\n",\
        "from tensorflow.keras.preprocessing.sequence import pad_sequences\\n",\
        "from tensorflow.keras.callbacks import EarlyStopping, ReduceLROnPlateau, ModelCheckpoint, LearningRateScheduler\\n",\
        "from tqdm import tqdm_notebook"\
      ],\
      "execution_count": null,\
      "outputs": [\
        \{\
          "output_type": "stream",\
          "text": [\
            "TensorFlow 2.x selected.\\n"\
          ],\
          "name": "stdout"\
        \},\
        \{\
          "output_type": "stream",\
          "text": [\
            "Using TensorFlow backend.\\n"\
          ],\
          "name": "stderr"\
        \}\
      ]\
    \},\
    \{\
      "cell_type": "code",\
      "metadata": \{\
        "id": "stXZc4_l1ees",\
        "outputId": "e6eb70ed-cc0b-4155-9f2a-afa61585bf17",\
        "colab": \{\
          "base_uri": "https://localhost:8080/",\
          "height": 122\
        \}\
      \},\
      "source": [\
        "drive.mount('/content/gdrive/')"\
      ],\
      "execution_count": null,\
      "outputs": [\
        \{\
          "output_type": "stream",\
          "text": [\
            "Go to this URL in a browser: https://accounts.google.com/o/oauth2/auth?client_id=947318989803-6bn6qk8qdgf4n4g3pfee6491hc0brc4i.apps.googleusercontent.com&redirect_uri=urn%3aietf%3awg%3aoauth%3a2.0%3aoob&response_type=code&scope=email%20https%3a%2f%2fwww.googleapis.com%2fauth%2fdocs.test%20https%3a%2f%2fwww.googleapis.com%2fauth%2fdrive%20https%3a%2f%2fwww.googleapis.com%2fauth%2fdrive.photos.readonly%20https%3a%2f%2fwww.googleapis.com%2fauth%2fpeopleapi.readonly\\n",\
            "\\n",\
            "Enter your authorization code:\\n",\
            "\'b7\'b7\'b7\'b7\'b7\'b7\'b7\'b7\'b7\'b7\\n",\
            "Mounted at /content/gdrive/\\n"\
          ],\
          "name": "stdout"\
        \}\
      ]\
    \},\
    \{\
      "cell_type": "code",\
      "metadata": \{\
        "id": "mW4pL5Ab1grb",\
        "outputId": "0460dfc8-9962-4fd6-f975-770636939da4",\
        "colab": \{\
          "base_uri": "https://localhost:8080/",\
          "height": 105\
        \}\
      \},\
      "source": [\
        "y = pd.read_csv('/content/gdrive/My Drive/y_train.csv')\\n",\
        "X = pd.read_csv('/content/gdrive/My Drive/x_train.txt', delimiter='\\\\r\\\\t', header=None, dtype=str)\\n",\
        "X_test = pd.read_csv('/content/gdrive/My Drive/x_test.txt', delimiter='\\\\r\\\\t', header=None, dtype=str)"\
      ],\
      "execution_count": null,\
      "outputs": [\
        \{\
          "output_type": "stream",\
          "text": [\
            "/usr/local/lib/python3.6/dist-packages/ipykernel_launcher.py:2: ParserWarning: Falling back to the 'python' engine because the 'c' engine does not support regex separators (separators > 1 char and different from '\\\\s+' are interpreted as regex); you can avoid this warning by specifying engine='python'.\\n",\
            "  \\n",\
            "/usr/local/lib/python3.6/dist-packages/ipykernel_launcher.py:3: ParserWarning: Falling back to the 'python' engine because the 'c' engine does not support regex separators (separators > 1 char and different from '\\\\s+' are interpreted as regex); you can avoid this warning by specifying engine='python'.\\n",\
            "  This is separate from the ipykernel package so we can avoid doing imports until\\n"\
          ],\
          "name": "stderr"\
        \}\
      ]\
    \},\
    \{\
      "cell_type": "code",\
      "metadata": \{\
        "id": "NLhMi7PW2SpO"\
      \},\
      "source": [\
        "y.drop(labels=['Id'], axis=1, inplace=True)\\n",\
        "X = np.squeeze(X.values)\\n",\
        "X_test = np.squeeze(X_test.values)"\
      ],\
      "execution_count": null,\
      "outputs": []\
    \},\
    \{\
      "cell_type": "code",\
      "metadata": \{\
        "id": "zJigR10sVD9B",\
        "colab": \{\
          "base_uri": "https://localhost:8080/",\
          "height": 34\
        \},\
        "outputId": "279d271f-b593-4f6f-ac90-287af995772a"\
      \},\
      "source": [\
        "type(X)"\
      ],\
      "execution_count": null,\
      "outputs": [\
        \{\
          "output_type": "execute_result",\
          "data": \{\
            "text/plain": [\
              "numpy.ndarray"\
            ]\
          \},\
          "metadata": \{\
            "tags": []\
          \},\
          "execution_count": 9\
        \}\
      ]\
    \},\
    \{\
      "cell_type": "code",\
      "metadata": \{\
        "id": "c5xBGaUyBvE0"\
      \},\
      "source": [\
        "X_train, X_val, y_train, y_val = train_test_split(X, y, test_size=0.3, random_state=42)"\
      ],\
      "execution_count": null,\
      "outputs": []\
    \},\
    \{\
      "cell_type": "code",\
      "metadata": \{\
        "id": "eXLyPsUmp_m2"\
      \},\
      "source": [\
        "def delete_punctuation(x):\\n",\
        "    return x.translate(str.maketrans('', '', string.punctuation))"\
      ],\
      "execution_count": null,\
      "outputs": []\
    \},\
    \{\
      "cell_type": "code",\
      "metadata": \{\
        "id": "nD2bhCwkqgue"\
      \},\
      "source": [\
        "def format_str(text):\\n",\
        "    buf = []\\n",\
        "    for line in text:\\n",\
        "        buf.append(delete_punctuation(line.lower()))\\n",\
        "    return buf"\
      ],\
      "execution_count": null,\
      "outputs": []\
    \},\
    \{\
      "cell_type": "code",\
      "metadata": \{\
        "id": "JovRsFhGpfDB"\
      \},\
      "source": [\
        "X_train = format_str(X_train)\\n",\
        "X_val = format_str(X_val)\\n",\
        "X_test = format_str(X_test)"\
      ],\
      "execution_count": null,\
      "outputs": []\
    \},\
    \{\
      "cell_type": "code",\
      "metadata": \{\
        "id": "z2LdCzh5o-zb"\
      \},\
      "source": [\
        "max_features = 10000\\n",\
        "tokenizer = Tokenizer(num_words=max_features)\\n",\
        "tokenizer.fit_on_texts(X_train)"\
      ],\
      "execution_count": null,\
      "outputs": []\
    \},\
    \{\
      "cell_type": "code",\
      "metadata": \{\
        "id": "mZImtHotu7Fv"\
      \},\
      "source": [\
        "X_train = tokenizer.texts_to_sequences(X_train)\\n",\
        "X_val = tokenizer.texts_to_sequences(X_val)\\n",\
        "X_test = tokenizer.texts_to_sequences(X_test)"\
      ],\
      "execution_count": null,\
      "outputs": []\
    \},\
    \{\
      "cell_type": "code",\
      "metadata": \{\
        "id": "oV1g0saVuGLV"\
      \},\
      "source": [\
        "maxlen = max([len(i) for i in X_train])\\n",\
        "X_train = pad_sequences(X_train, maxlen=maxlen)\\n",\
        "X_val = pad_sequences(X_val, maxlen=maxlen)\\n",\
        "X_test = pad_sequences(X_test, maxlen=maxlen)"\
      ],\
      "execution_count": null,\
      "outputs": []\
    \},\
    \{\
      "cell_type": "code",\
      "metadata": \{\
        "id": "JT2JJYlc9tvQ"\
      \},\
      "source": [\
        "embed_size = 150"\
      ],\
      "execution_count": null,\
      "outputs": []\
    \},\
    \{\
      "cell_type": "code",\
      "metadata": \{\
        "id": "sMZJex3Jwl0b"\
      \},\
      "source": [\
        "def make_model():\\n",\
        "  model = Sequential()\\n",\
        "  model.add(Input((maxlen,)))\\n",\
        "  model.add(Embedding(max_features, embed_size, input_length=maxlen))\\n",\
        "  model.add(Bidirectional(GRU(128, return_sequences=True)))\\n",\
        "  model.add(Dropout(0.3))\\n",\
        "  model.add(Bidirectional(GRU(128, return_sequences=False)))\\n",\
        "  model.add(Dense(64, activation=\\"relu\\"))\\n",\
        "  model.add(Dense(32, activation=\\"relu\\"))\\n",\
        "  model.add(Dense(1, activation=\\"sigmoid\\"))\\n",\
        "  return model"\
      ],\
      "execution_count": null,\
      "outputs": []\
    \},\
    \{\
      "cell_type": "code",\
      "metadata": \{\
        "id": "799vBJdN1IKo"\
      \},\
      "source": [\
        "EPOCHS = 1\\n",\
        "BATCH_SIZE = 256"\
      ],\
      "execution_count": null,\
      "outputs": []\
    \},\
    \{\
      "cell_type": "code",\
      "metadata": \{\
        "id": "n4CN7MdIyFZe",\
        "outputId": "d291f8bb-3fc8-4e9c-ed8f-2af14e7556d1",\
        "colab": \{\
          "base_uri": "https://localhost:8080/",\
          "height": 391\
        \}\
      \},\
      "source": [\
        "model = make_model()\\n",\
        "model.summary()\\n",\
        "\\n",\
        "model.compile(loss='binary_crossentropy',\\n",\
        "                  optimizer=Adam(),\\n",\
        "                  metrics=['binary_accuracy'])"\
      ],\
      "execution_count": null,\
      "outputs": [\
        \{\
          "output_type": "stream",\
          "text": [\
            "Model: \\"sequential_4\\"\\n",\
            "_________________________________________________________________\\n",\
            "Layer (type)                 Output Shape              Param #   \\n",\
            "=================================================================\\n",\
            "embedding_3 (Embedding)      (None, 254, 150)          1500000   \\n",\
            "_________________________________________________________________\\n",\
            "bidirectional_6 (Bidirection (None, 254, 256)          215040    \\n",\
            "_________________________________________________________________\\n",\
            "dropout_3 (Dropout)          (None, 254, 256)          0         \\n",\
            "_________________________________________________________________\\n",\
            "bidirectional_7 (Bidirection (None, 256)               296448    \\n",\
            "_________________________________________________________________\\n",\
            "dense_9 (Dense)              (None, 64)                16448     \\n",\
            "_________________________________________________________________\\n",\
            "dense_10 (Dense)             (None, 32)                2080      \\n",\
            "_________________________________________________________________\\n",\
            "dense_11 (Dense)             (None, 1)                 33        \\n",\
            "=================================================================\\n",\
            "Total params: 2,030,049\\n",\
            "Trainable params: 2,030,049\\n",\
            "Non-trainable params: 0\\n",\
            "_________________________________________________________________\\n"\
          ],\
          "name": "stdout"\
        \}\
      ]\
    \},\
    \{\
      "cell_type": "code",\
      "metadata": \{\
        "id": "14yanGgWyI0v",\
        "outputId": "430753c1-702d-4737-94e4-dcde5403dd1f",\
        "colab": \{\
          "base_uri": "https://localhost:8080/",\
          "height": 71\
        \}\
      \},\
      "source": [\
        "history = model.fit(X_train, y_train, \\n",\
        "                    batch_size=BATCH_SIZE, \\n",\
        "                    epochs=EPOCHS, \\n",\
        "                    validation_data=(X_val, y_val), \\n",\
        "                    verbose = 1\\n",\
        "                    )"\
      ],\
      "execution_count": null,\
      "outputs": [\
        \{\
          "output_type": "stream",\
          "text": [\
            "Train on 2520000 samples, validate on 1080000 samples\\n",\
            "2520000/2520000 [==============================] - 1588s 630us/sample - loss: 0.1649 - binary_accuracy: 0.9360 - val_loss: 0.1381 - val_binary_accuracy: 0.9478\\n"\
          ],\
          "name": "stdout"\
        \}\
      ]\
    \},\
    \{\
      "cell_type": "code",\
      "metadata": \{\
        "id": "rtj_zxZQUUui"\
      \},\
      "source": [\
        "def predict(word):\\n",\
        "    processed_word = np.zeros((1, maxlen, len(char_pool)))\\n",\
        "    for i_char, char in enumerate(word):\\n",\
        "        processed_word[0, i_char, char_indices[char]] = 1\\n",\
        "    prediction = model.predict(processed_word, verbose=0)\\n",\
        "    return prediction"\
      ],\
      "execution_count": null,\
      "outputs": []\
    \},\
    \{\
      "cell_type": "code",\
      "metadata": \{\
        "id": "uVY4CpRI2B2Y",\
        "outputId": "2b3cef22-e80c-4fba-a80d-f27201e37838",\
        "colab": \{\
          "base_uri": "https://localhost:8080/",\
          "height": 34\
        \}\
      \},\
      "source": [\
        "for i, word in enumerate(X_test):\\n",\
        "  output[i] = coder[model.predict(X_test, verbose=1)]"\
      ],\
      "execution_count": null,\
      "outputs": [\
        \{\
          "output_type": "stream",\
          "text": [\
            "400000/400000 [==============================] - 240s 599us/sample\\n"\
          ],\
          "name": "stdout"\
        \}\
      ]\
    \},\
    \{\
      "cell_type": "code",\
      "metadata": \{\
        "id": "Kxk93Qsh2Ynd",\
        "outputId": "b606e219-f604-4021-dfc5-3f205ae42e5a",\
        "colab": \{\
          "base_uri": "https://localhost:8080/",\
          "height": 204\
        \}\
      \},\
      "source": [\
        "answer = zip(np.arange(1, len(output) + 1), np.squeeze(output))\\n",\
        "out = pd.DataFrame(answer, columns=['Id', 'Probability'], index=None)\\n",\
        "out.to_csv('sentiment_submission.csv', index=False)\\n",\
        "out.head()"\
      ],\
      "execution_count": null,\
      "outputs": [\
        \{\
          "output_type": "execute_result",\
          "data": \{\
            "text/html": [\
              "<div>\\n",\
              "<style scoped>\\n",\
              "    .dataframe tbody tr th:only-of-type \{\\n",\
              "        vertical-align: middle;\\n",\
              "    \}\\n",\
              "\\n",\
              "    .dataframe tbody tr th \{\\n",\
              "        vertical-align: top;\\n",\
              "    \}\\n",\
              "\\n",\
              "    .dataframe thead th \{\\n",\
              "        text-align: right;\\n",\
              "    \}\\n",\
              "</style>\\n",\
              "<table border=\\"1\\" class=\\"dataframe\\">\\n",\
              "  <thead>\\n",\
              "    <tr style=\\"text-align: right;\\">\\n",\
              "      <th></th>\\n",\
              "      <th>Id</th>\\n",\
              "      <th>Probability</th>\\n",\
              "    </tr>\\n",\
              "  </thead>\\n",\
              "  <tbody>\\n",\
              "    <tr>\\n",\
              "      <th>0</th>\\n",\
              "      <td>1</td>\\n",\
              "      <td>0.993772</td>\\n",\
              "    </tr>\\n",\
              "    <tr>\\n",\
              "      <th>1</th>\\n",\
              "      <td>2</td>\\n",\
              "      <td>0.995666</td>\\n",\
              "    </tr>\\n",\
              "    <tr>\\n",\
              "      <th>2</th>\\n",\
              "      <td>3</td>\\n",\
              "      <td>0.003339</td>\\n",\
              "    </tr>\\n",\
              "    <tr>\\n",\
              "      <th>3</th>\\n",\
              "      <td>4</td>\\n",\
              "      <td>0.599730</td>\\n",\
              "    </tr>\\n",\
              "    <tr>\\n",\
              "      <th>4</th>\\n",\
              "      <td>5</td>\\n",\
              "      <td>0.983436</td>\\n",\
              "    </tr>\\n",\
              "  </tbody>\\n",\
              "</table>\\n",\
              "</div>"\
            ],\
            "text/plain": [\
              "   Id  Probability\\n",\
              "0   1     0.993772\\n",\
              "1   2     0.995666\\n",\
              "2   3     0.003339\\n",\
              "3   4     0.599730\\n",\
              "4   5     0.983436"\
            ]\
          \},\
          "metadata": \{\
            "tags": []\
          \},\
          "execution_count": 88\
        \}\
      ]\
    \},\
    \{\
      "cell_type": "code",\
      "metadata": \{\
        "id": "L_27-t6EM6nw"\
      \},\
      "source": [\
        "model.save_weights('/content/gdrive/My Drive/weights_sentiments')"\
      ],\
      "execution_count": null,\
      "outputs": []\
    \},\
    \{\
      "cell_type": "code",\
      "metadata": \{\
        "id": "z1UGwPU7ORja"\
      \},\
      "source": [\
        ""\
      ],\
      "execution_count": null,\
      "outputs": []\
    \}\
  ]\
\}}